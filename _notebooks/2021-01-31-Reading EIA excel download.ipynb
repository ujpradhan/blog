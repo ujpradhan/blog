{
 "metadata": {
  "language_info": {
   "codemirror_mode": {
    "name": "ipython",
    "version": 3
   },
   "file_extension": ".py",
   "mimetype": "text/x-python",
   "name": "python",
   "nbconvert_exporter": "python",
   "pygments_lexer": "ipython3",
   "version": "3.8.5-final"
  },
  "orig_nbformat": 2,
  "kernelspec": {
   "name": "python3",
   "display_name": "Python 3",
   "language": "python"
  }
 },
 "nbformat": 4,
 "nbformat_minor": 2,
 "cells": [
  {
   "source": [
    "# \"Reading EIA production data download\"\n",
    "> \"Accessing EIA excel file with Jupyter\""
   ],
   "cell_type": "markdown",
   "metadata": {}
  },
  {
   "source": [
    "In this post, we'll process a downloaded excel file from EIA using Jupyter to access the data smoothly. If you'd like to access EIA data via API, see my <a href='https://ujpradhan.github.io/blog/2021/01/22/US-oil-&-gas-production-with-EIA.html' target='_blank'>previous post</a>.\n",
    "\n",
    "We will use the EIA Drilling Productivity Report (DPR) in this example. The DPR provides monthly data on oil and gas production and rig counts by major basins in the US. You can download the latest release <a href='https://www.eia.gov/petroleum/drilling/' target='_blank'>here</a>. Browse through the excel file to familiarize yourself.\n",
    "\n"
   ],
   "cell_type": "markdown",
   "metadata": {}
  },
  {
   "cell_type": "code",
   "execution_count": 26,
   "metadata": {},
   "outputs": [],
   "source": [
    "#import customary packages\n",
    "import pandas as pd\n",
    "import matplotlib.pyplot as plt\n",
    "%matplotlib inline"
   ]
  },
  {
   "cell_type": "code",
   "execution_count": 27,
   "metadata": {},
   "outputs": [],
   "source": [
    "#read excel download\n",
    "xl = pd.ExcelFile(r\"C:\\Users\\ujpra\\Documents\\Python\\blog\\_notebooks\\dpr-data_011921.xlsx\")\n",
    "\n",
    "#create list of sheet names in the excel file\n",
    "sheets = xl.sheet_names \n",
    "\n",
    "#i like defining simple names for individual dataframes later\n",
    "basin_name = [\"anadarko\", \"appalachia\", \"bakken\", \"eagle_ford\", \"haynesville\", \"niobrara\", \"permian\"] \n",
    "\n",
    "x = 0\n",
    "basins = {}\n",
    "\n",
    "for i in basin_name:\n",
    "    df = pd.read_excel(r\"C:\\Users\\ujpra\\Documents\\Python\\blog\\_notebooks\\dpr-data_011921.xlsx\", \n",
    "                            sheet_name=sheets[x],\n",
    "                            skiprows=range(0, 1))\n",
    "\n",
    "    df[\"Month\"] = pd.to_datetime(df[\"Month\"])\n",
    "\n",
    "    df = df.set_index(\"Month\")\n",
    "\n",
    "    df.columns = ['rig', 'oil_per_rig', \"oil_prod_chg\", \"oil_prod\",\n",
    "                    'gas_per_rig', 'gas_prod_chg', 'gas_prod']\n",
    "\n",
    "    basins[basin_name[x]] = df\n",
    "\n",
    "    x += 1"
   ]
  },
  {
   "cell_type": "code",
   "execution_count": 28,
   "metadata": {},
   "outputs": [
    {
     "output_type": "execute_result",
     "data": {
      "text/plain": [
       "              rig  oil_per_rig  oil_prod_chg    oil_prod  gas_per_rig  \\\n",
       "Month                                                                   \n",
       "2020-10-01  133.0   1211.96090    -142189.13  4342702.43   2333.06519   \n",
       "2020-11-01  155.0   1260.43934    -158616.12  4373153.77   2426.38780   \n",
       "2020-12-01  170.0   1197.41737    -182090.32  4350319.96   2305.06841   \n",
       "2021-01-01    NaN   1173.46902    -199253.52  4332954.13   2258.96704   \n",
       "2021-02-01    NaN   1138.26495    -206396.45  4320062.72   2191.19803   \n",
       "\n",
       "            gas_prod_chg    gas_prod  \n",
       "Month                                 \n",
       "2020-10-01    -360048.73  16633751.9  \n",
       "2020-11-01    -381516.66  16553107.3  \n",
       "2020-12-01    -417633.67  16442047.7  \n",
       "2021-01-01    -427276.60  16364911.0  \n",
       "2021-02-01    -434202.77  16303211.9  "
      ],
      "text/html": "<div>\n<style scoped>\n    .dataframe tbody tr th:only-of-type {\n        vertical-align: middle;\n    }\n\n    .dataframe tbody tr th {\n        vertical-align: top;\n    }\n\n    .dataframe thead th {\n        text-align: right;\n    }\n</style>\n<table border=\"1\" class=\"dataframe\">\n  <thead>\n    <tr style=\"text-align: right;\">\n      <th></th>\n      <th>rig</th>\n      <th>oil_per_rig</th>\n      <th>oil_prod_chg</th>\n      <th>oil_prod</th>\n      <th>gas_per_rig</th>\n      <th>gas_prod_chg</th>\n      <th>gas_prod</th>\n    </tr>\n    <tr>\n      <th>Month</th>\n      <th></th>\n      <th></th>\n      <th></th>\n      <th></th>\n      <th></th>\n      <th></th>\n      <th></th>\n    </tr>\n  </thead>\n  <tbody>\n    <tr>\n      <th>2020-10-01</th>\n      <td>133.0</td>\n      <td>1211.96090</td>\n      <td>-142189.13</td>\n      <td>4342702.43</td>\n      <td>2333.06519</td>\n      <td>-360048.73</td>\n      <td>16633751.9</td>\n    </tr>\n    <tr>\n      <th>2020-11-01</th>\n      <td>155.0</td>\n      <td>1260.43934</td>\n      <td>-158616.12</td>\n      <td>4373153.77</td>\n      <td>2426.38780</td>\n      <td>-381516.66</td>\n      <td>16553107.3</td>\n    </tr>\n    <tr>\n      <th>2020-12-01</th>\n      <td>170.0</td>\n      <td>1197.41737</td>\n      <td>-182090.32</td>\n      <td>4350319.96</td>\n      <td>2305.06841</td>\n      <td>-417633.67</td>\n      <td>16442047.7</td>\n    </tr>\n    <tr>\n      <th>2021-01-01</th>\n      <td>NaN</td>\n      <td>1173.46902</td>\n      <td>-199253.52</td>\n      <td>4332954.13</td>\n      <td>2258.96704</td>\n      <td>-427276.60</td>\n      <td>16364911.0</td>\n    </tr>\n    <tr>\n      <th>2021-02-01</th>\n      <td>NaN</td>\n      <td>1138.26495</td>\n      <td>-206396.45</td>\n      <td>4320062.72</td>\n      <td>2191.19803</td>\n      <td>-434202.77</td>\n      <td>16303211.9</td>\n    </tr>\n  </tbody>\n</table>\n</div>"
     },
     "metadata": {},
     "execution_count": 28
    }
   ],
   "source": [
    "#let's check permian data to make sure above code works\n",
    "\n",
    "basins['permian'].tail()"
   ]
  },
  {
   "cell_type": "code",
   "execution_count": 30,
   "metadata": {},
   "outputs": [
    {
     "output_type": "execute_result",
     "data": {
      "text/plain": [
       "              oil_prod    gas_prod\n",
       "Month                             \n",
       "2020-10-01  4342702.43  16633751.9\n",
       "2020-11-01  4373153.77  16553107.3\n",
       "2020-12-01  4350319.96  16442047.7\n",
       "2021-01-01  4332954.13  16364911.0\n",
       "2021-02-01  4320062.72  16303211.9"
      ],
      "text/html": "<div>\n<style scoped>\n    .dataframe tbody tr th:only-of-type {\n        vertical-align: middle;\n    }\n\n    .dataframe tbody tr th {\n        vertical-align: top;\n    }\n\n    .dataframe thead th {\n        text-align: right;\n    }\n</style>\n<table border=\"1\" class=\"dataframe\">\n  <thead>\n    <tr style=\"text-align: right;\">\n      <th></th>\n      <th>oil_prod</th>\n      <th>gas_prod</th>\n    </tr>\n    <tr>\n      <th>Month</th>\n      <th></th>\n      <th></th>\n    </tr>\n  </thead>\n  <tbody>\n    <tr>\n      <th>2020-10-01</th>\n      <td>4342702.43</td>\n      <td>16633751.9</td>\n    </tr>\n    <tr>\n      <th>2020-11-01</th>\n      <td>4373153.77</td>\n      <td>16553107.3</td>\n    </tr>\n    <tr>\n      <th>2020-12-01</th>\n      <td>4350319.96</td>\n      <td>16442047.7</td>\n    </tr>\n    <tr>\n      <th>2021-01-01</th>\n      <td>4332954.13</td>\n      <td>16364911.0</td>\n    </tr>\n    <tr>\n      <th>2021-02-01</th>\n      <td>4320062.72</td>\n      <td>16303211.9</td>\n    </tr>\n  </tbody>\n</table>\n</div>"
     },
     "metadata": {},
     "execution_count": 30
    }
   ],
   "source": [
    "#let's create a dataframe with just permian oil and gas production\n",
    "permian_prod = basins['permian'][['oil_prod', 'gas_prod']]\n",
    "permian_prod.tail()"
   ]
  },
  {
   "cell_type": "code",
   "execution_count": 32,
   "metadata": {},
   "outputs": [
    {
     "output_type": "execute_result",
     "data": {
      "text/plain": [
       "            oil_prod  gas_prod\n",
       "Month                         \n",
       "2020-10-01  0.023421 -0.036704\n",
       "2020-11-01  0.007012 -0.004848\n",
       "2020-12-01 -0.005221 -0.006709\n",
       "2021-01-01 -0.003992 -0.004691\n",
       "2021-02-01 -0.002975 -0.003770"
      ],
      "text/html": "<div>\n<style scoped>\n    .dataframe tbody tr th:only-of-type {\n        vertical-align: middle;\n    }\n\n    .dataframe tbody tr th {\n        vertical-align: top;\n    }\n\n    .dataframe thead th {\n        text-align: right;\n    }\n</style>\n<table border=\"1\" class=\"dataframe\">\n  <thead>\n    <tr style=\"text-align: right;\">\n      <th></th>\n      <th>oil_prod</th>\n      <th>gas_prod</th>\n    </tr>\n    <tr>\n      <th>Month</th>\n      <th></th>\n      <th></th>\n    </tr>\n  </thead>\n  <tbody>\n    <tr>\n      <th>2020-10-01</th>\n      <td>0.023421</td>\n      <td>-0.036704</td>\n    </tr>\n    <tr>\n      <th>2020-11-01</th>\n      <td>0.007012</td>\n      <td>-0.004848</td>\n    </tr>\n    <tr>\n      <th>2020-12-01</th>\n      <td>-0.005221</td>\n      <td>-0.006709</td>\n    </tr>\n    <tr>\n      <th>2021-01-01</th>\n      <td>-0.003992</td>\n      <td>-0.004691</td>\n    </tr>\n    <tr>\n      <th>2021-02-01</th>\n      <td>-0.002975</td>\n      <td>-0.003770</td>\n    </tr>\n  </tbody>\n</table>\n</div>"
     },
     "metadata": {},
     "execution_count": 32
    }
   ],
   "source": [
    "#want to check month-on-month growth rates, use pct_change() function\n",
    "permian_prod.pct_change().tail()"
   ]
  }
 ]
}